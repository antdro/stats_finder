{
 "cells": [
  {
   "cell_type": "code",
   "execution_count": 14,
   "metadata": {
    "collapsed": false
   },
   "outputs": [],
   "source": [
    "# Python 3.6.0 |Anaconda 4.3.1 (64-bit)|\n",
    "\n",
    "from importer import *\n",
    "from loader import *\n",
    "from extractor import *\n",
    "from helper import *\n",
    "\n",
    "# display any number of columns\n",
    "pd.set_option('display.max_columns', None)"
   ]
  },
  {
   "cell_type": "code",
   "execution_count": 15,
   "metadata": {
    "collapsed": false
   },
   "outputs": [],
   "source": [
    "leagues = [\n",
    "    # world-cup\n",
    "    (\"premier-league\", 35),\n",
    "    (\"serie-a\", 34),\n",
    "    (\"championship\", 45),\n",
    "    (\"la-liga\", 35),\n",
    "    (\"bundesliga\", 31),\n",
    "    (\"ligue-1\", 35),\n",
    "    (\"mls\", 8),\n",
    "    (\"scottish-premiership\", 34), \n",
    "    (\"league-1\", 46),\n",
    "    (\"league-2\", 45)\n",
    "]"
   ]
  },
  {
   "cell_type": "code",
   "execution_count": 13,
   "metadata": {
    "collapsed": false,
    "scrolled": false
   },
   "outputs": [],
   "source": [
    "# collect data\n",
    "\n",
    "for league in leagues:\n",
    "    \n",
    "    liga = league[0]\n",
    "    weeks = league[1]\n",
    "    \n",
    "    print ('\\n' + liga + '\\n')\n",
    "    \n",
    "    links = get_all_fixture_links_for_league(liga, number_of_weeks = weeks)\n",
    "    links = encode_all_non_ascii_urls(links)\n",
    "    \n",
    "    df = get_goals_for_league_df(links)\n",
    "    \n",
    "    df.to_csv(\"data/\" + liga + \".csv\")"
   ]
  }
 ],
 "metadata": {
  "kernelspec": {
   "display_name": "Python 3",
   "language": "python",
   "name": "python3"
  },
  "language_info": {
   "codemirror_mode": {
    "name": "ipython",
    "version": 3
   },
   "file_extension": ".py",
   "mimetype": "text/x-python",
   "name": "python",
   "nbconvert_exporter": "python",
   "pygments_lexer": "ipython3",
   "version": "3.6.0"
  }
 },
 "nbformat": 4,
 "nbformat_minor": 2
}
