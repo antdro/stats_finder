{
 "cells": [
  {
   "cell_type": "code",
   "execution_count": 7,
   "metadata": {
    "collapsed": false
   },
   "outputs": [],
   "source": [
    "# Python 3.6.0 |Anaconda 4.3.1 (64-bit)|\n",
    "\n",
    "from importer import *\n",
    "from loader import *\n",
    "from extractor import *\n",
    "from helper import *\n",
    "\n",
    "# display any number of columns\n",
    "pd.set_option('display.max_columns', None)"
   ]
  },
  {
   "cell_type": "code",
   "execution_count": 8,
   "metadata": {
    "collapsed": false
   },
   "outputs": [],
   "source": [
    "# configure list to collect goals\n",
    "leagues = [   \n",
    "    (\"premier-league\", 36, 36),\n",
    "    (\"serie-a\", 35, 35),\n",
    "    (\"championship\", 46, 46),\n",
    "    (\"la-liga\", 36, 36),\n",
    "    (\"bundesliga\", 32, 32),\n",
    "    (\"ligue-1\", 36, 36),\n",
    "    (\"mls\", 10, 10)\n",
    "]"
   ]
  },
  {
   "cell_type": "code",
   "execution_count": 9,
   "metadata": {
    "collapsed": false,
    "scrolled": false
   },
   "outputs": [],
   "source": [
    "# df = collect_stats_for_all_leagues(leagues)"
   ]
  }
 ],
 "metadata": {
  "kernelspec": {
   "display_name": "Python 3",
   "language": "python",
   "name": "python3"
  },
  "language_info": {
   "codemirror_mode": {
    "name": "ipython",
    "version": 3
   },
   "file_extension": ".py",
   "mimetype": "text/x-python",
   "name": "python",
   "nbconvert_exporter": "python",
   "pygments_lexer": "ipython3",
   "version": "3.6.0"
  }
 },
 "nbformat": 4,
 "nbformat_minor": 2
}
