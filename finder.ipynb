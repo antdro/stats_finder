{
 "cells": [
  {
   "cell_type": "code",
   "execution_count": 1,
   "metadata": {
    "collapsed": false
   },
   "outputs": [],
   "source": [
    "# Python 3.6.0 |Anaconda 4.3.1 (64-bit)|\n",
    "\n",
    "from importer import *\n",
    "from loader import *\n",
    "from extractor import *\n",
    "from helper import *\n",
    "\n",
    "# display any number of columns\n",
    "pd.set_option('display.max_columns', None)"
   ]
  },
  {
   "cell_type": "code",
   "execution_count": 2,
   "metadata": {
    "collapsed": false
   },
   "outputs": [],
   "source": [
    "# configure list to collect goals\n",
    "leagues = [\n",
    "    (\"premier-league\", 35, 1),\n",
    "    (\"serie-a\", 34, 1),\n",
    "    (\"championship\", 45, 1),\n",
    "    (\"la-liga\", 35, 1),\n",
    "    (\"bundesliga\", 31, 1),\n",
    "    (\"ligue-1\", 35, 1),\n",
    "    (\"mls\", 8, 1),\n",
    "]"
   ]
  },
  {
   "cell_type": "code",
   "execution_count": 9,
   "metadata": {
    "collapsed": false,
    "scrolled": false
   },
   "outputs": [],
   "source": [
    "# collect_goals(leagues)"
   ]
  }
 ],
 "metadata": {
  "kernelspec": {
   "display_name": "Python 3",
   "language": "python",
   "name": "python3"
  },
  "language_info": {
   "codemirror_mode": {
    "name": "ipython",
    "version": 3
   },
   "file_extension": ".py",
   "mimetype": "text/x-python",
   "name": "python",
   "nbconvert_exporter": "python",
   "pygments_lexer": "ipython3",
   "version": "3.6.0"
  }
 },
 "nbformat": 4,
 "nbformat_minor": 2
}
